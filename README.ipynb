{
 "cells": [
  {
   "cell_type": "markdown",
   "metadata": {},
   "source": [
    "# Como configurar/instalar/usar o `btop` no `Linux Ubuntu`\n",
    "\n",
    "## Resumo\n",
    "\n",
    "Neste documento estão contidos os principais comandos e configurações para configurar/instalar/usar o `btop` no `Linux Ubuntu`.\n",
    "\n",
    "## _Abstract_\n",
    "\n",
    "_This document contains the main commands and settings to configure/install/use the `btop` on `Linux Ubuntu`._"
   ]
  },
  {
   "cell_type": "markdown",
   "metadata": {},
   "source": [
    "## Descrição [1][2]\n",
    "\n",
    "### `btop`\n",
    "\n",
    "O `btop` é uma ferramenta de monitoramento de recursos de sistema para sistemas `Linux`, incluindo o Ubuntu. A sigla \"btop\" pode ser interpretada como `\"Better TOP\"`, uma referência ao comando `top` que também serve para monitorar a atividade do sistema em tempo real. O `btop` oferece uma visão geral do uso da CPU, memória, lista de processos e outros recursos do sistema de forma visual e interativa.\n",
    "\n",
    "O `btop` é conhecido por seu layout amigável e fácil de usar, fornecendo informações de forma mais organizada e visualmente atraente em comparação com o comando `top`. Ele também permite que você interaja diretamente para matar processos, filtrar listas e muito mais, tudo diretamente da interface."
   ]
  },
  {
   "cell_type": "markdown",
   "metadata": {},
   "source": [
    "## 1. Configurar/Instalar o `btop` no `Linux Ubuntu` [1]\n",
    "\n",
    "Para instalar o `btop` no `Linux Ubuntu`, você pode usar o gerenciador de pacotes `snap`. Siga os passos abaixo:\n",
    "\n",
    "1. Abra o `Terminal Emulator`. Você pode fazer isso pressionando: `Ctrl + Alt + T`\n"
   ]
  },
  {
   "cell_type": "markdown",
   "metadata": {},
   "source": [
    "2. Certifique-se de que seu sistema esteja limpo e atualizado.\n",
    "\n",
    "    2.1 Limpar o `cache` do gerenciador de pacotes `apt`. Especificamente, ele remove todos os arquivos de pacotes (`.deb`) baixados pelo `apt` e armazenados em `/var/cache/apt/archives/`. Digite o seguinte comando:\n",
    "    \n",
    "    ```bash\n",
    "    sudo apt clean\n",
    "    ``` \n",
    "    \n",
    "    2.2 Remover pacotes `.deb` antigos ou duplicados do cache local. É útil para liberar espaço, pois remove apenas os pacotes que não podem mais ser baixados (ou seja, versões antigas de pacotes que foram atualizados). Digite o seguinte comando:\n",
    "    \n",
    "    ```bash\n",
    "    sudo apt autoclean\n",
    "    ```\n",
    "\n",
    "    2.3 Remover pacotes que foram automaticamente instalados para satisfazer as dependências de outros pacotes e que não são mais necessários. Digite o seguinte comando:\n",
    "    \n",
    "    ```bash\n",
    "    sudo apt autoremove -y\n",
    "    ```\n",
    "\n",
    "    2.4 Buscar as atualizações disponíveis para os pacotes que estão instalados em seu sistema. Digite o seguinte comando e pressione `Enter`: \n",
    "    \n",
    "    ```bash\n",
    "    sudo apt update\n",
    "    ```\n",
    "\n",
    "    2.5 **Corrigir pacotes quebrados**: Isso atualizará a lista de pacotes disponíveis e tentará corrigir pacotes quebrados ou com dependências ausentes:\n",
    "    \n",
    "    ```bash\n",
    "    sudo apt --fix-broken install\n",
    "    ```\n",
    "\n",
    "    2.6 Limpar o `cache` do gerenciador de pacotes `apt`. Especificamente, ele remove todos os arquivos de pacotes (`.deb`) baixados pelo `apt` e armazenados em `/var/cache/apt/archives/`. Digite o seguinte comando:\n",
    "    \n",
    "    ```bash\n",
    "    sudo apt clean\n",
    "    ``` \n",
    "    \n",
    "    2.7 Para ver a lista de pacotes a serem atualizados, digite o seguinte comando e pressione `Enter`:  \n",
    "    \n",
    "    ```bash\n",
    "    sudo apt list --upgradable\n",
    "    ```\n",
    "\n",
    "    2.8 Realmente atualizar os pacotes instalados para as suas versões mais recentes, com base na última vez que você executou `sudo apt update`. Digite o seguinte comando e pressione `Enter`:\n",
    "    \n",
    "    ```bash\n",
    "    sudo apt full-upgrade -y\n",
    "    ```"
   ]
  },
  {
   "cell_type": "markdown",
   "metadata": {
    "vscode": {
     "languageId": "plaintext"
    }
   },
   "source": [
    "3. **Instalar via Snap:**\n",
    "\n",
    "    ```bash\n",
    "    sudo snap install btop\n",
    "    ```\n",
    "\n",
    "4. Depois de instalado, você pode executá-lo simplesmente digitando btop no `Terminal Emulator`:\n",
    "\n",
    "    ```bash\n",
    "    btop\n",
    "    ```\n",
    "\n",
    "Isso abrirá a interface do `btop`, onde você pode monitorar e gerenciar os recursos do sistema.\n"
   ]
  },
  {
   "cell_type": "markdown",
   "metadata": {},
   "source": [
    "## 2. Código completo para configurar/instalar\n",
    "\n",
    "Para instalar o `btop` no `Linux Ubuntu` sem precisar digitar linha por linha, você pode seguir estas etapas:\n",
    "\n",
    "1. Abra o `Terminal Emulator`. Você pode fazer isso pressionando: `Ctrl + Alt + T`\n",
    "\n",
    "2. Digite o seguinte comando e pressione `Enter`:\n",
    "\n",
    "    ```bash\n",
    "    sudo apt clean\n",
    "    sudo apt autoclean\n",
    "    sudo apt autoremove -y\n",
    "    sudo apt update\n",
    "    sudo apt --fix-broken install\n",
    "    sudo apt clean\n",
    "    sudo apt list --upgradable\n",
    "    sudo apt full-upgrade -y\n",
    "    sudo snap install btop\n",
    "    btop\n",
    "    ```"
   ]
  },
  {
   "cell_type": "markdown",
   "metadata": {
    "vscode": {
     "languageId": "plaintext"
    }
   },
   "source": [
    "## 3. Passo a passo para ordenar por memória no `btop`\n",
    "\n",
    "1. Pressione a tecla **Left (`←`)** ou **Right (`→`)**  \n",
    "   \n",
    "   * Isso alterna entre as colunas de ordenação da lista de processos:\n",
    "\n",
    "    - `CPU%`\n",
    "\n",
    "    - `MEM%`\n",
    "\n",
    "    - `PID`\n",
    "\n",
    "    - etc.\n",
    "\n",
    "2. Continue pressionando até que a lista esteja ordenada por `MEM%`.\n",
    "\n",
    "3. Se necessário, pressione `R` para **inverter a ordem** (crescente ↔ decrescente).\n",
    "\n",
    "### Atalhos úteis (como mostrado na imagem)\n",
    "\n",
    "| Tecla     | Ação                                                      |\n",
    "|-----------|-----------------------------------------------------------|\n",
    "| `←` / `→`     | Muda a coluna de ordenação (ex: `CPU → MEM → PID`)         |\n",
    "| `R`         | Inverte a ordem de classificação                          |\n",
    "| `F2` ou `o`   | Abre o menu de opções                                     |\n",
    "\n",
    "Isso deve resolver exatamente o que você quer: ver os processos ordenados por **uso de memória**, em **ordem decrescente**.\n"
   ]
  },
  {
   "cell_type": "markdown",
   "metadata": {
    "vscode": {
     "languageId": "plaintext"
    }
   },
   "source": [
    "## Referências\n",
    "\n",
    "[1] OPENAI. ***O que é o btop?.*** Disponível em: <https://chat.openai.com/c/35bba29e-8c34-40e1-9db1-3369f3c5c476> (texto adaptado). ChatGPT. Acessado em: 25/10/2023 13:08.\n",
    "\n",
    "[2] OPENAI. ***Vs code: editor popular.*** Disponível em: <https://chat.openai.com/c/b640a25d-f8e3-4922-8a3b-ed74a2657e42> (texto adaptado). ChatGPT. Acessado em: 14/11/2023 09:33."
   ]
  }
 ],
 "metadata": {
  "kernelspec": {
   "display_name": "Python 3",
   "language": "python",
   "name": "python3"
  },
  "language_info": {
   "codemirror_mode": {
    "name": "ipython",
    "version": 3
   },
   "file_extension": ".py",
   "mimetype": "text/x-python",
   "name": "python",
   "nbconvert_exporter": "python",
   "pygments_lexer": "ipython3",
   "version": "3.8.10"
  },
  "orig_nbformat": 4
 },
 "nbformat": 4,
 "nbformat_minor": 2
}
